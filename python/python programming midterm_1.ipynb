{
  "nbformat": 4,
  "nbformat_minor": 0,
  "metadata": {
    "colab": {
      "provenance": []
    },
    "kernelspec": {
      "name": "python3",
      "display_name": "Python 3"
    },
    "language_info": {
      "name": "python"
    }
  },
  "cells": [
    {
      "cell_type": "markdown",
      "source": [
        "#1.Soru"
      ],
      "metadata": {
        "id": "BqlbJ59dEPo0"
      }
    },
    {
      "cell_type": "code",
      "execution_count": null,
      "metadata": {
        "id": "1IyCMqTqEPHG"
      },
      "outputs": [],
      "source": [
        "import turtle\n",
        "tosbik = turtle.Turtle()\n",
        "\n",
        "tosbik.pensize(0.78)\n",
        "turtle.Screen().bgcolor(\"black\")\n",
        "tosbik.pencolor(\"yellow\")\n",
        "tosbik.speed(10) \n",
        "\n",
        "def cizim(i,y):\n",
        "    tosbik.penup()\n",
        "    \n",
        "    tosbik.goto(i*70, y)\n",
        "    \n",
        "    tosbik.pendown()\n",
        "    \n",
        "    tosbik.circle(50)\n",
        "\n",
        "cizim(-5,35)\n",
        "cizim(-4,-5)\n",
        "cizim(-3,35)\n",
        "cizim(-2,-5)\n",
        "cizim(-1,35)\n",
        "\n",
        "\n",
        "tosbik.color(\"blue\")\n",
        "tosbik.penup()\n",
        "tosbik.goto(77, -40)\n",
        "tosbik.pendown()\n",
        "turtle.done()"
      ]
    },
    {
      "cell_type": "markdown",
      "source": [
        "#2.Soru"
      ],
      "metadata": {
        "id": "AEQA4-ZHEZeX"
      }
    },
    {
      "cell_type": "code",
      "source": [
        "# arasınav ve final notları\n",
        "vize1 = int(input(\"1. ara sınav puanı: \"))\n",
        "vize2 = int(input(\"2. ara sınav puanı: \"))\n",
        "final = int(input(\"Final sınav puanı: \"))\n",
        "\n",
        "# Puanların geçerli olup olmadığını kontrol edin\n",
        "if not (0 <= vize1 <= 25 and 0 <= vize2 <= 25 and 0 <= final <= 50):\n",
        "    print(\"Hatalı puan girişi!\")\n",
        "else:\n",
        "    # Toplam puanı hesapla\n",
        "    toplam = vize1 + vize2 + final\n",
        "\n",
        "    # Notu hesapla\n",
        "    if toplam < 50 or final < 25:\n",
        "        print(\"Kaldı\")\n",
        "    elif toplam >= 80:\n",
        "        print(\"Çok iyi not\")\n",
        "    elif 60 <= toplam < 80:\n",
        "        print(\"İyi not\")\n",
        "    else:\n",
        "        print(\"Geçti\")\n",
        "\n",
        "    print(\"Toplam puan:\", toplam)"
      ],
      "metadata": {
        "id": "_XhzBp6tEbkB"
      },
      "execution_count": null,
      "outputs": []
    },
    {
      "cell_type": "markdown",
      "source": [
        "#3.Soru"
      ],
      "metadata": {
        "id": "jg-DI202EcZD"
      }
    },
    {
      "cell_type": "code",
      "source": [
        "for i in range(9, 0, -2):\n",
        "    print(\" \" * ((9 - i) // 2) + \"*\" * i + \" \" * ((9 - i) // 2))\n"
      ],
      "metadata": {
        "colab": {
          "base_uri": "https://localhost:8080/"
        },
        "id": "paipPuMFEewt",
        "outputId": "95d369f5-978f-422c-8afe-ad91914147ae"
      },
      "execution_count": 1,
      "outputs": [
        {
          "output_type": "stream",
          "name": "stdout",
          "text": [
            "*********\n",
            " ******* \n",
            "  *****  \n",
            "   ***   \n",
            "    *    \n"
          ]
        }
      ]
    },
    {
      "cell_type": "markdown",
      "source": [
        "#4.Soru"
      ],
      "metadata": {
        "id": "J7gkDe2PEfOo"
      }
    },
    {
      "cell_type": "code",
      "source": [
        "import random\n",
        "\n",
        "while True:\n",
        "    rand_num = random.randint(1, 100)\n",
        "    guess_num = 0\n",
        "    num_guesses = 0\n",
        "\n",
        "    print(\"1 ile 100 arasında bir sayı seçtim. Tahmin etmek için bir sayı girin.\")\n",
        "\n",
        "    while True:\n",
        "        user_guess = int(input(\" \"))\n",
        "        guess_num += 1\n",
        "\n",
        "        if user_guess > rand_num:\n",
        "            print(\"Çok yüksek, tekrar dene.\")\n",
        "        elif user_guess < rand_num:\n",
        "            print(\"Çok düşük, tekrar dene.\")\n",
        "        else:\n",
        "            print(f\"Tebrikler! Sayıyı {guess_num}. denemede tahmin ettiniz.\")\n",
        "            break\n"
      ],
      "metadata": {
        "id": "AUDwrvL0EjN6"
      },
      "execution_count": null,
      "outputs": []
    },
    {
      "cell_type": "markdown",
      "source": [
        "#5.Soru"
      ],
      "metadata": {
        "id": "0zNT4dQgEjcg"
      }
    },
    {
      "cell_type": "code",
      "source": [
        "sayılar = [44, 14, 205, 40, -6, 76, 87, 134, -25, 28]\n",
        "\n",
        "geçerli_sayılar = []\n",
        "\n",
        "for sayı in sayılar:\n",
        "    if sayı >= 0 and sayı <= 100:\n",
        "        geçerli_sayılar.append(sayı)\n",
        "\n",
        "print(\"Geçerli Sayılar:\", geçerli_sayılar)\n",
        "\n",
        "toplam = sum(geçerli_sayılar)\n",
        "ortalama = toplam / len(geçerli_sayılar)\n",
        "\n",
        "print(\"Toplam:\", toplam)\n",
        "print(\"Ortalama:\", ortalama)"
      ],
      "metadata": {
        "id": "gfUtk6T7EnKy"
      },
      "execution_count": null,
      "outputs": []
    }
  ]
}